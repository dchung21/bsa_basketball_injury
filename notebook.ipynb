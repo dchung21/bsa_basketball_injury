{
 "cells": [
  {
   "cell_type": "code",
   "execution_count": 16,
   "metadata": {},
   "outputs": [],
   "source": [
    "import pandas as pd\n",
    "import csv"
   ]
  },
  {
   "cell_type": "code",
   "execution_count": 17,
   "metadata": {},
   "outputs": [],
   "source": [
    "df = pd.read_csv('data.csv')"
   ]
  },
  {
   "cell_type": "code",
   "execution_count": 18,
   "metadata": {},
   "outputs": [
    {
     "data": {
      "text/html": [
       "<div>\n",
       "<style scoped>\n",
       "    .dataframe tbody tr th:only-of-type {\n",
       "        vertical-align: middle;\n",
       "    }\n",
       "\n",
       "    .dataframe tbody tr th {\n",
       "        vertical-align: top;\n",
       "    }\n",
       "\n",
       "    .dataframe thead th {\n",
       "        text-align: right;\n",
       "    }\n",
       "</style>\n",
       "<table border=\"1\" class=\"dataframe\">\n",
       "  <thead>\n",
       "    <tr style=\"text-align: right;\">\n",
       "      <th></th>\n",
       "      <th>date</th>\n",
       "      <th>team</th>\n",
       "      <th>name</th>\n",
       "      <th>status</th>\n",
       "    </tr>\n",
       "  </thead>\n",
       "  <tbody>\n",
       "    <tr>\n",
       "      <th>0</th>\n",
       "      <td>1990-01-02</td>\n",
       "      <td>Cavaliers</td>\n",
       "      <td>• Wayne Rollins / Tree Rollins</td>\n",
       "      <td>placed on IL with sprained left knee</td>\n",
       "    </tr>\n",
       "    <tr>\n",
       "      <th>1</th>\n",
       "      <td>1990-01-02</td>\n",
       "      <td>Cavaliers</td>\n",
       "      <td>• John Morton</td>\n",
       "      <td>activated from IL</td>\n",
       "    </tr>\n",
       "    <tr>\n",
       "      <th>2</th>\n",
       "      <td>1990-01-02</td>\n",
       "      <td>Magic</td>\n",
       "      <td>• Jerry Reynolds (a)</td>\n",
       "      <td>placed on IL</td>\n",
       "    </tr>\n",
       "    <tr>\n",
       "      <th>3</th>\n",
       "      <td>1990-01-02</td>\n",
       "      <td>Magic</td>\n",
       "      <td>• Morlon Wiley</td>\n",
       "      <td>activated from IL</td>\n",
       "    </tr>\n",
       "    <tr>\n",
       "      <th>4</th>\n",
       "      <td>1990-01-04</td>\n",
       "      <td>Hawks</td>\n",
       "      <td>• Cliff Levingston</td>\n",
       "      <td>placed on IL</td>\n",
       "    </tr>\n",
       "  </tbody>\n",
       "</table>\n",
       "</div>"
      ],
      "text/plain": [
       "         date        team                             name  \\\n",
       "0  1990-01-02   Cavaliers   • Wayne Rollins / Tree Rollins   \n",
       "1  1990-01-02   Cavaliers                    • John Morton   \n",
       "2  1990-01-02       Magic             • Jerry Reynolds (a)   \n",
       "3  1990-01-02       Magic                   • Morlon Wiley   \n",
       "4  1990-01-04       Hawks               • Cliff Levingston   \n",
       "\n",
       "                                  status  \n",
       "0   placed on IL with sprained left knee  \n",
       "1                      activated from IL  \n",
       "2                           placed on IL  \n",
       "3                      activated from IL  \n",
       "4                           placed on IL  "
      ]
     },
     "execution_count": 18,
     "metadata": {},
     "output_type": "execute_result"
    }
   ],
   "source": [
    "df.head()"
   ]
  },
  {
   "cell_type": "code",
   "execution_count": null,
   "metadata": {},
   "outputs": [],
   "source": [
    "df['name'] = df.apply(lambda x: df['name'][2:], axis=1)"
   ]
  },
  {
   "cell_type": "code",
   "execution_count": 26,
   "metadata": {},
   "outputs": [
    {
     "data": {
      "text/html": [
       "<div>\n",
       "<style scoped>\n",
       "    .dataframe tbody tr th:only-of-type {\n",
       "        vertical-align: middle;\n",
       "    }\n",
       "\n",
       "    .dataframe tbody tr th {\n",
       "        vertical-align: top;\n",
       "    }\n",
       "\n",
       "    .dataframe thead th {\n",
       "        text-align: right;\n",
       "    }\n",
       "</style>\n",
       "<table border=\"1\" class=\"dataframe\">\n",
       "  <thead>\n",
       "    <tr style=\"text-align: right;\">\n",
       "      <th></th>\n",
       "      <th>date</th>\n",
       "      <th>team</th>\n",
       "      <th>name</th>\n",
       "      <th>status</th>\n",
       "    </tr>\n",
       "  </thead>\n",
       "  <tbody>\n",
       "    <tr>\n",
       "      <th>0</th>\n",
       "      <td>1990-01-02</td>\n",
       "      <td>Cavaliers</td>\n",
       "      <td>• Wayne Rollins / Tree Rollins</td>\n",
       "      <td>placed on IL with sprained left knee</td>\n",
       "    </tr>\n",
       "    <tr>\n",
       "      <th>1</th>\n",
       "      <td>1990-01-02</td>\n",
       "      <td>Cavaliers</td>\n",
       "      <td>• John Morton</td>\n",
       "      <td>activated from IL</td>\n",
       "    </tr>\n",
       "    <tr>\n",
       "      <th>2</th>\n",
       "      <td>1990-01-02</td>\n",
       "      <td>Magic</td>\n",
       "      <td>• Jerry Reynolds (a)</td>\n",
       "      <td>placed on IL</td>\n",
       "    </tr>\n",
       "    <tr>\n",
       "      <th>3</th>\n",
       "      <td>1990-01-02</td>\n",
       "      <td>Magic</td>\n",
       "      <td>• Morlon Wiley</td>\n",
       "      <td>activated from IL</td>\n",
       "    </tr>\n",
       "    <tr>\n",
       "      <th>4</th>\n",
       "      <td>1990-01-04</td>\n",
       "      <td>Hawks</td>\n",
       "      <td>• Cliff Levingston</td>\n",
       "      <td>placed on IL</td>\n",
       "    </tr>\n",
       "  </tbody>\n",
       "</table>\n",
       "</div>"
      ],
      "text/plain": [
       "         date        team                             name  \\\n",
       "0  1990-01-02   Cavaliers   • Wayne Rollins / Tree Rollins   \n",
       "1  1990-01-02   Cavaliers                    • John Morton   \n",
       "2  1990-01-02       Magic             • Jerry Reynolds (a)   \n",
       "3  1990-01-02       Magic                   • Morlon Wiley   \n",
       "4  1990-01-04       Hawks               • Cliff Levingston   \n",
       "\n",
       "                                  status  \n",
       "0   placed on IL with sprained left knee  \n",
       "1                      activated from IL  \n",
       "2                           placed on IL  \n",
       "3                      activated from IL  \n",
       "4                           placed on IL  "
      ]
     },
     "execution_count": 26,
     "metadata": {},
     "output_type": "execute_result"
    }
   ],
   "source": [
    "data.head()"
   ]
  },
  {
   "cell_type": "code",
   "execution_count": null,
   "metadata": {},
   "outputs": [],
   "source": []
  }
 ],
 "metadata": {
  "kernelspec": {
   "display_name": "Python 3",
   "language": "python",
   "name": "python3"
  },
  "language_info": {
   "codemirror_mode": {
    "name": "ipython",
    "version": 3
   },
   "file_extension": ".py",
   "mimetype": "text/x-python",
   "name": "python",
   "nbconvert_exporter": "python",
   "pygments_lexer": "ipython3",
   "version": "3.7.1"
  }
 },
 "nbformat": 4,
 "nbformat_minor": 2
}
